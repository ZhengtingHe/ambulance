{
 "cells": [
  {
   "cell_type": "code",
   "execution_count": 1,
   "id": "dd8ac9d0",
   "metadata": {
    "pycharm": {
     "name": "#%%\n"
    }
   },
   "outputs": [],
   "source": [
    "import pandas as pd\n",
    "import numpy as np"
   ]
  },
  {
   "cell_type": "code",
   "execution_count": 2,
   "id": "0d98e2c1",
   "metadata": {
    "pycharm": {
     "name": "#%%\n"
    }
   },
   "outputs": [],
   "source": [
    "file_name = \"amb.xlsx\"\n",
    "categories = pd.read_excel(io = file_name, sheet_name = 0)\n",
    "demographics = pd.read_excel(io = file_name, sheet_name = 1)"
   ]
  },
  {
   "cell_type": "code",
   "execution_count": 3,
   "id": "6c97a1a1",
   "metadata": {
    "pycharm": {
     "name": "#%%\n"
    }
   },
   "outputs": [],
   "source": [
    "categories = categories.dropna()\n",
    "demographics = demographics.dropna()"
   ]
  },
  {
   "cell_type": "code",
   "execution_count": 4,
   "id": "f730fd4d",
   "metadata": {
    "pycharm": {
     "name": "#%%\n"
    }
   },
   "outputs": [],
   "source": [
    "categories['total_incidents'].astype('int');\n",
    "demographics['total_incidents'].astype('int');"
   ]
  },
  {
   "cell_type": "code",
   "execution_count": 5,
   "id": "71771f41",
   "metadata": {
    "pycharm": {
     "name": "#%%\n"
    }
   },
   "outputs": [
    {
     "data": {
      "text/plain": "       year               month   LSOA11CD             LSOA11NM category  \\\n0      2019  September-November  E01000001  City of London 001A      C1    \n1      2019  September-November  E01000001  City of London 001A      C2    \n2      2019  September-November  E01000001  City of London 001A      C3    \n3      2019  September-November  E01000001  City of London 001A      C4    \n4      2019  September-November  E01000001  City of London 001A      C5    \n...     ...                 ...        ...                  ...      ...   \n64493  2020  September-November  E01033746       Greenwich 038E      C2    \n64494  2020  September-November  E01033746       Greenwich 038E      C3    \n64495  2020  September-November  E01033746       Greenwich 038E      C4    \n64497  2020  September-November  E01033746       Greenwich 038E      O     \n64498  2020  September-November  E01033746       Greenwich 038E    Total   \n\n       total_incidents  \n0                  8.0  \n1                 33.0  \n2                 16.0  \n3                  2.0  \n4                  7.0  \n...                ...  \n64493             35.0  \n64494             13.0  \n64495              2.0  \n64497              2.0  \n64498             58.0  \n\n[55950 rows x 6 columns]",
      "text/html": "<div>\n<style scoped>\n    .dataframe tbody tr th:only-of-type {\n        vertical-align: middle;\n    }\n\n    .dataframe tbody tr th {\n        vertical-align: top;\n    }\n\n    .dataframe thead th {\n        text-align: right;\n    }\n</style>\n<table border=\"1\" class=\"dataframe\">\n  <thead>\n    <tr style=\"text-align: right;\">\n      <th></th>\n      <th>year</th>\n      <th>month</th>\n      <th>LSOA11CD</th>\n      <th>LSOA11NM</th>\n      <th>category</th>\n      <th>total_incidents</th>\n    </tr>\n  </thead>\n  <tbody>\n    <tr>\n      <th>0</th>\n      <td>2019</td>\n      <td>September-November</td>\n      <td>E01000001</td>\n      <td>City of London 001A</td>\n      <td>C1</td>\n      <td>8.0</td>\n    </tr>\n    <tr>\n      <th>1</th>\n      <td>2019</td>\n      <td>September-November</td>\n      <td>E01000001</td>\n      <td>City of London 001A</td>\n      <td>C2</td>\n      <td>33.0</td>\n    </tr>\n    <tr>\n      <th>2</th>\n      <td>2019</td>\n      <td>September-November</td>\n      <td>E01000001</td>\n      <td>City of London 001A</td>\n      <td>C3</td>\n      <td>16.0</td>\n    </tr>\n    <tr>\n      <th>3</th>\n      <td>2019</td>\n      <td>September-November</td>\n      <td>E01000001</td>\n      <td>City of London 001A</td>\n      <td>C4</td>\n      <td>2.0</td>\n    </tr>\n    <tr>\n      <th>4</th>\n      <td>2019</td>\n      <td>September-November</td>\n      <td>E01000001</td>\n      <td>City of London 001A</td>\n      <td>C5</td>\n      <td>7.0</td>\n    </tr>\n    <tr>\n      <th>...</th>\n      <td>...</td>\n      <td>...</td>\n      <td>...</td>\n      <td>...</td>\n      <td>...</td>\n      <td>...</td>\n    </tr>\n    <tr>\n      <th>64493</th>\n      <td>2020</td>\n      <td>September-November</td>\n      <td>E01033746</td>\n      <td>Greenwich 038E</td>\n      <td>C2</td>\n      <td>35.0</td>\n    </tr>\n    <tr>\n      <th>64494</th>\n      <td>2020</td>\n      <td>September-November</td>\n      <td>E01033746</td>\n      <td>Greenwich 038E</td>\n      <td>C3</td>\n      <td>13.0</td>\n    </tr>\n    <tr>\n      <th>64495</th>\n      <td>2020</td>\n      <td>September-November</td>\n      <td>E01033746</td>\n      <td>Greenwich 038E</td>\n      <td>C4</td>\n      <td>2.0</td>\n    </tr>\n    <tr>\n      <th>64497</th>\n      <td>2020</td>\n      <td>September-November</td>\n      <td>E01033746</td>\n      <td>Greenwich 038E</td>\n      <td>O</td>\n      <td>2.0</td>\n    </tr>\n    <tr>\n      <th>64498</th>\n      <td>2020</td>\n      <td>September-November</td>\n      <td>E01033746</td>\n      <td>Greenwich 038E</td>\n      <td>Total</td>\n      <td>58.0</td>\n    </tr>\n  </tbody>\n</table>\n<p>55950 rows × 6 columns</p>\n</div>"
     },
     "execution_count": 5,
     "metadata": {},
     "output_type": "execute_result"
    }
   ],
   "source": [
    "categories"
   ]
  },
  {
   "cell_type": "code",
   "execution_count": 6,
   "id": "d7deb0dd",
   "metadata": {
    "pycharm": {
     "name": "#%%\n"
    }
   },
   "outputs": [
    {
     "data": {
      "text/plain": "       year               month   LSOA11CD                   LSOA11NM  \\\n5      2019  September-November  E01000001        City of London 001A   \n12     2019  September-November  E01000002        City of London 001B   \n19     2019  September-November  E01000003        City of London 001C   \n25     2019  September-November  E01000005        City of London 001E   \n31     2019  September-November  E01000006  Barking and Dagenham 016A   \n...     ...                 ...        ...                        ...   \n64474  2020  September-November  E01033742             Greenwich 007F   \n64481  2020  September-November  E01033743             Greenwich 002H   \n64486  2020  September-November  E01033744             Greenwich 007G   \n64491  2020  September-November  E01033745             Greenwich 002I   \n64498  2020  September-November  E01033746             Greenwich 038E   \n\n      category  total_incidents  \n5        Total             66.0  \n12       Total            122.0  \n19       Total             57.0  \n25       Total            140.0  \n31       Total             48.0  \n...        ...              ...  \n64474    Total             62.0  \n64481    Total            106.0  \n64486    Total             20.0  \n64491    Total             32.0  \n64498    Total             58.0  \n\n[9638 rows x 6 columns]",
      "text/html": "<div>\n<style scoped>\n    .dataframe tbody tr th:only-of-type {\n        vertical-align: middle;\n    }\n\n    .dataframe tbody tr th {\n        vertical-align: top;\n    }\n\n    .dataframe thead th {\n        text-align: right;\n    }\n</style>\n<table border=\"1\" class=\"dataframe\">\n  <thead>\n    <tr style=\"text-align: right;\">\n      <th></th>\n      <th>year</th>\n      <th>month</th>\n      <th>LSOA11CD</th>\n      <th>LSOA11NM</th>\n      <th>category</th>\n      <th>total_incidents</th>\n    </tr>\n  </thead>\n  <tbody>\n    <tr>\n      <th>5</th>\n      <td>2019</td>\n      <td>September-November</td>\n      <td>E01000001</td>\n      <td>City of London 001A</td>\n      <td>Total</td>\n      <td>66.0</td>\n    </tr>\n    <tr>\n      <th>12</th>\n      <td>2019</td>\n      <td>September-November</td>\n      <td>E01000002</td>\n      <td>City of London 001B</td>\n      <td>Total</td>\n      <td>122.0</td>\n    </tr>\n    <tr>\n      <th>19</th>\n      <td>2019</td>\n      <td>September-November</td>\n      <td>E01000003</td>\n      <td>City of London 001C</td>\n      <td>Total</td>\n      <td>57.0</td>\n    </tr>\n    <tr>\n      <th>25</th>\n      <td>2019</td>\n      <td>September-November</td>\n      <td>E01000005</td>\n      <td>City of London 001E</td>\n      <td>Total</td>\n      <td>140.0</td>\n    </tr>\n    <tr>\n      <th>31</th>\n      <td>2019</td>\n      <td>September-November</td>\n      <td>E01000006</td>\n      <td>Barking and Dagenham 016A</td>\n      <td>Total</td>\n      <td>48.0</td>\n    </tr>\n    <tr>\n      <th>...</th>\n      <td>...</td>\n      <td>...</td>\n      <td>...</td>\n      <td>...</td>\n      <td>...</td>\n      <td>...</td>\n    </tr>\n    <tr>\n      <th>64474</th>\n      <td>2020</td>\n      <td>September-November</td>\n      <td>E01033742</td>\n      <td>Greenwich 007F</td>\n      <td>Total</td>\n      <td>62.0</td>\n    </tr>\n    <tr>\n      <th>64481</th>\n      <td>2020</td>\n      <td>September-November</td>\n      <td>E01033743</td>\n      <td>Greenwich 002H</td>\n      <td>Total</td>\n      <td>106.0</td>\n    </tr>\n    <tr>\n      <th>64486</th>\n      <td>2020</td>\n      <td>September-November</td>\n      <td>E01033744</td>\n      <td>Greenwich 007G</td>\n      <td>Total</td>\n      <td>20.0</td>\n    </tr>\n    <tr>\n      <th>64491</th>\n      <td>2020</td>\n      <td>September-November</td>\n      <td>E01033745</td>\n      <td>Greenwich 002I</td>\n      <td>Total</td>\n      <td>32.0</td>\n    </tr>\n    <tr>\n      <th>64498</th>\n      <td>2020</td>\n      <td>September-November</td>\n      <td>E01033746</td>\n      <td>Greenwich 038E</td>\n      <td>Total</td>\n      <td>58.0</td>\n    </tr>\n  </tbody>\n</table>\n<p>9638 rows × 6 columns</p>\n</div>"
     },
     "execution_count": 6,
     "metadata": {},
     "output_type": "execute_result"
    }
   ],
   "source": [
    "demo_total = categories[categories['category'] == 'Total']\n",
    "demo_total"
   ]
  },
  {
   "cell_type": "code",
   "execution_count": 7,
   "id": "7a667829",
   "metadata": {
    "pycharm": {
     "name": "#%%\n"
    }
   },
   "outputs": [
    {
     "data": {
      "text/plain": "        year               month   LSOA11CD             LSOA11NM   age sex  \\\n2       2019  September-November  E01000001  City of London 001A  10.0   F   \n3       2019  September-November  E01000001  City of London 001A  20.0   F   \n4       2019  September-November  E01000001  City of London 001A  20.0   M   \n5       2019  September-November  E01000001  City of London 001A  30.0   F   \n6       2019  September-November  E01000001  City of London 001A  30.0   M   \n...      ...                 ...        ...                  ...   ...  ..   \n193577  2020  September-November  E01033746       Greenwich 038E  70.0   M   \n193578  2020  September-November  E01033746       Greenwich 038E  80.0   F   \n193579  2020  September-November  E01033746       Greenwich 038E  80.0   M   \n193580  2020  September-November  E01033746       Greenwich 038E  90.0   M   \n193581  2020  September-November  E01033746       Greenwich 038E  90.0   F   \n\n       category  total_incidents  \n2         Total              1.0  \n3         Total              2.0  \n4         Total              1.0  \n5         Total             11.0  \n6         Total              8.0  \n...         ...              ...  \n193577    Total             11.0  \n193578    Total              6.0  \n193579    Total              7.0  \n193580    Total              2.0  \n193581    Total              8.0  \n\n[160159 rows x 8 columns]",
      "text/html": "<div>\n<style scoped>\n    .dataframe tbody tr th:only-of-type {\n        vertical-align: middle;\n    }\n\n    .dataframe tbody tr th {\n        vertical-align: top;\n    }\n\n    .dataframe thead th {\n        text-align: right;\n    }\n</style>\n<table border=\"1\" class=\"dataframe\">\n  <thead>\n    <tr style=\"text-align: right;\">\n      <th></th>\n      <th>year</th>\n      <th>month</th>\n      <th>LSOA11CD</th>\n      <th>LSOA11NM</th>\n      <th>age</th>\n      <th>sex</th>\n      <th>category</th>\n      <th>total_incidents</th>\n    </tr>\n  </thead>\n  <tbody>\n    <tr>\n      <th>2</th>\n      <td>2019</td>\n      <td>September-November</td>\n      <td>E01000001</td>\n      <td>City of London 001A</td>\n      <td>10.0</td>\n      <td>F</td>\n      <td>Total</td>\n      <td>1.0</td>\n    </tr>\n    <tr>\n      <th>3</th>\n      <td>2019</td>\n      <td>September-November</td>\n      <td>E01000001</td>\n      <td>City of London 001A</td>\n      <td>20.0</td>\n      <td>F</td>\n      <td>Total</td>\n      <td>2.0</td>\n    </tr>\n    <tr>\n      <th>4</th>\n      <td>2019</td>\n      <td>September-November</td>\n      <td>E01000001</td>\n      <td>City of London 001A</td>\n      <td>20.0</td>\n      <td>M</td>\n      <td>Total</td>\n      <td>1.0</td>\n    </tr>\n    <tr>\n      <th>5</th>\n      <td>2019</td>\n      <td>September-November</td>\n      <td>E01000001</td>\n      <td>City of London 001A</td>\n      <td>30.0</td>\n      <td>F</td>\n      <td>Total</td>\n      <td>11.0</td>\n    </tr>\n    <tr>\n      <th>6</th>\n      <td>2019</td>\n      <td>September-November</td>\n      <td>E01000001</td>\n      <td>City of London 001A</td>\n      <td>30.0</td>\n      <td>M</td>\n      <td>Total</td>\n      <td>8.0</td>\n    </tr>\n    <tr>\n      <th>...</th>\n      <td>...</td>\n      <td>...</td>\n      <td>...</td>\n      <td>...</td>\n      <td>...</td>\n      <td>...</td>\n      <td>...</td>\n      <td>...</td>\n    </tr>\n    <tr>\n      <th>193577</th>\n      <td>2020</td>\n      <td>September-November</td>\n      <td>E01033746</td>\n      <td>Greenwich 038E</td>\n      <td>70.0</td>\n      <td>M</td>\n      <td>Total</td>\n      <td>11.0</td>\n    </tr>\n    <tr>\n      <th>193578</th>\n      <td>2020</td>\n      <td>September-November</td>\n      <td>E01033746</td>\n      <td>Greenwich 038E</td>\n      <td>80.0</td>\n      <td>F</td>\n      <td>Total</td>\n      <td>6.0</td>\n    </tr>\n    <tr>\n      <th>193579</th>\n      <td>2020</td>\n      <td>September-November</td>\n      <td>E01033746</td>\n      <td>Greenwich 038E</td>\n      <td>80.0</td>\n      <td>M</td>\n      <td>Total</td>\n      <td>7.0</td>\n    </tr>\n    <tr>\n      <th>193580</th>\n      <td>2020</td>\n      <td>September-November</td>\n      <td>E01033746</td>\n      <td>Greenwich 038E</td>\n      <td>90.0</td>\n      <td>M</td>\n      <td>Total</td>\n      <td>2.0</td>\n    </tr>\n    <tr>\n      <th>193581</th>\n      <td>2020</td>\n      <td>September-November</td>\n      <td>E01033746</td>\n      <td>Greenwich 038E</td>\n      <td>90.0</td>\n      <td>F</td>\n      <td>Total</td>\n      <td>8.0</td>\n    </tr>\n  </tbody>\n</table>\n<p>160159 rows × 8 columns</p>\n</div>"
     },
     "execution_count": 7,
     "metadata": {},
     "output_type": "execute_result"
    }
   ],
   "source": [
    "demographics"
   ]
  },
  {
   "cell_type": "code",
   "execution_count": 8,
   "id": "b8e0ecdf",
   "metadata": {
    "pycharm": {
     "name": "#%%\n"
    }
   },
   "outputs": [],
   "source": [
    "def print_features(df):\n",
    "    for key in df.columns:\n",
    "        print(\"{}:{}, total num:{}\".format(key, np.unique(df[key]),len(np.unique(df[key]))))"
   ]
  },
  {
   "cell_type": "code",
   "execution_count": 9,
   "id": "003f729d",
   "metadata": {
    "pycharm": {
     "name": "#%%\n"
    }
   },
   "outputs": [
    {
     "name": "stdout",
     "output_type": "stream",
     "text": [
      "year:[2019 2020], total num:2\n",
      "month:['September-November'], total num:1\n",
      "LSOA11CD:['E01000001' 'E01000002' 'E01000003' ... 'E01033744' 'E01033745'\n",
      " 'E01033746'], total num:4819\n",
      "LSOA11NM:['Barking and Dagenham 001A' 'Barking and Dagenham 001B'\n",
      " 'Barking and Dagenham 001C' ... 'Westminster 024D' 'Westminster 024E'\n",
      " 'Westminster 024F'], total num:4819\n",
      "category:['C1 ' 'C2 ' 'C3 ' 'C4 ' 'C5 ' 'O  ' 'Total'], total num:7\n",
      "total_incidents:[1.000e+00 2.000e+00 3.000e+00 4.000e+00 5.000e+00 6.000e+00 7.000e+00\n",
      " 8.000e+00 9.000e+00 1.000e+01 1.100e+01 1.200e+01 1.300e+01 1.400e+01\n",
      " 1.500e+01 1.600e+01 1.700e+01 1.800e+01 1.900e+01 2.000e+01 2.100e+01\n",
      " 2.200e+01 2.300e+01 2.400e+01 2.500e+01 2.600e+01 2.700e+01 2.800e+01\n",
      " 2.900e+01 3.000e+01 3.100e+01 3.200e+01 3.300e+01 3.400e+01 3.500e+01\n",
      " 3.600e+01 3.700e+01 3.800e+01 3.900e+01 4.000e+01 4.100e+01 4.200e+01\n",
      " 4.300e+01 4.400e+01 4.500e+01 4.600e+01 4.700e+01 4.800e+01 4.900e+01\n",
      " 5.000e+01 5.100e+01 5.200e+01 5.300e+01 5.400e+01 5.500e+01 5.600e+01\n",
      " 5.700e+01 5.800e+01 5.900e+01 6.000e+01 6.100e+01 6.200e+01 6.300e+01\n",
      " 6.400e+01 6.500e+01 6.600e+01 6.700e+01 6.800e+01 6.900e+01 7.000e+01\n",
      " 7.100e+01 7.200e+01 7.300e+01 7.400e+01 7.500e+01 7.600e+01 7.700e+01\n",
      " 7.800e+01 7.900e+01 8.000e+01 8.100e+01 8.200e+01 8.300e+01 8.400e+01\n",
      " 8.500e+01 8.600e+01 8.700e+01 8.800e+01 8.900e+01 9.000e+01 9.100e+01\n",
      " 9.200e+01 9.300e+01 9.400e+01 9.500e+01 9.600e+01 9.700e+01 9.800e+01\n",
      " 9.900e+01 1.000e+02 1.010e+02 1.020e+02 1.030e+02 1.040e+02 1.050e+02\n",
      " 1.060e+02 1.070e+02 1.080e+02 1.090e+02 1.100e+02 1.110e+02 1.120e+02\n",
      " 1.130e+02 1.140e+02 1.150e+02 1.160e+02 1.170e+02 1.180e+02 1.190e+02\n",
      " 1.200e+02 1.210e+02 1.220e+02 1.230e+02 1.240e+02 1.250e+02 1.260e+02\n",
      " 1.270e+02 1.280e+02 1.290e+02 1.300e+02 1.310e+02 1.320e+02 1.330e+02\n",
      " 1.340e+02 1.350e+02 1.360e+02 1.370e+02 1.380e+02 1.390e+02 1.400e+02\n",
      " 1.410e+02 1.420e+02 1.430e+02 1.440e+02 1.450e+02 1.460e+02 1.470e+02\n",
      " 1.480e+02 1.490e+02 1.500e+02 1.510e+02 1.520e+02 1.530e+02 1.540e+02\n",
      " 1.550e+02 1.560e+02 1.570e+02 1.580e+02 1.590e+02 1.600e+02 1.610e+02\n",
      " 1.620e+02 1.630e+02 1.640e+02 1.650e+02 1.660e+02 1.670e+02 1.680e+02\n",
      " 1.690e+02 1.700e+02 1.710e+02 1.720e+02 1.730e+02 1.740e+02 1.750e+02\n",
      " 1.760e+02 1.770e+02 1.780e+02 1.790e+02 1.800e+02 1.810e+02 1.820e+02\n",
      " 1.830e+02 1.840e+02 1.850e+02 1.860e+02 1.870e+02 1.880e+02 1.890e+02\n",
      " 1.900e+02 1.910e+02 1.920e+02 1.930e+02 1.940e+02 1.950e+02 1.970e+02\n",
      " 1.980e+02 2.000e+02 2.010e+02 2.020e+02 2.040e+02 2.050e+02 2.070e+02\n",
      " 2.080e+02 2.090e+02 2.100e+02 2.110e+02 2.130e+02 2.140e+02 2.150e+02\n",
      " 2.160e+02 2.170e+02 2.180e+02 2.190e+02 2.200e+02 2.210e+02 2.230e+02\n",
      " 2.240e+02 2.260e+02 2.270e+02 2.280e+02 2.290e+02 2.300e+02 2.310e+02\n",
      " 2.320e+02 2.330e+02 2.340e+02 2.350e+02 2.360e+02 2.370e+02 2.390e+02\n",
      " 2.400e+02 2.410e+02 2.420e+02 2.430e+02 2.460e+02 2.470e+02 2.490e+02\n",
      " 2.500e+02 2.530e+02 2.540e+02 2.550e+02 2.560e+02 2.580e+02 2.590e+02\n",
      " 2.610e+02 2.620e+02 2.630e+02 2.640e+02 2.660e+02 2.680e+02 2.700e+02\n",
      " 2.720e+02 2.730e+02 2.750e+02 2.770e+02 2.780e+02 2.790e+02 2.800e+02\n",
      " 2.880e+02 2.890e+02 2.910e+02 2.920e+02 2.940e+02 2.950e+02 2.960e+02\n",
      " 2.980e+02 2.990e+02 3.030e+02 3.050e+02 3.070e+02 3.080e+02 3.130e+02\n",
      " 3.140e+02 3.150e+02 3.160e+02 3.180e+02 3.210e+02 3.220e+02 3.260e+02\n",
      " 3.300e+02 3.320e+02 3.550e+02 3.630e+02 3.680e+02 3.720e+02 3.810e+02\n",
      " 3.850e+02 3.960e+02 4.010e+02 4.040e+02 4.090e+02 4.150e+02 4.190e+02\n",
      " 4.200e+02 4.260e+02 4.310e+02 4.430e+02 4.550e+02 4.570e+02 4.630e+02\n",
      " 4.800e+02 4.970e+02 4.990e+02 5.080e+02 5.130e+02 5.290e+02 5.800e+02\n",
      " 6.700e+02 6.770e+02 7.420e+02 8.070e+02 8.220e+02 8.780e+02 1.206e+03\n",
      " 2.010e+03], total num:316\n"
     ]
    }
   ],
   "source": [
    "print_features(categories)"
   ]
  },
  {
   "cell_type": "code",
   "execution_count": 10,
   "id": "6eaf03c8",
   "metadata": {
    "pycharm": {
     "name": "#%%\n"
    }
   },
   "outputs": [
    {
     "name": "stdout",
     "output_type": "stream",
     "text": [
      "year:[2019 2020], total num:2\n",
      "month:['September-November'], total num:1\n",
      "LSOA11CD:['E01000001' 'E01000002' 'E01000003' ... 'E01033744' 'E01033745'\n",
      " 'E01033746'], total num:4819\n",
      "LSOA11NM:['Barking and Dagenham 001A' 'Barking and Dagenham 001B'\n",
      " 'Barking and Dagenham 001C' ... 'Westminster 024D' 'Westminster 024E'\n",
      " 'Westminster 024F'], total num:4819\n",
      "age:[  0.  10.  20.  30.  40.  50.  60.  70.  80.  90. 100. 110.], total num:12\n",
      "sex:['F' 'M' 'U'], total num:3\n",
      "category:['Total'], total num:1\n",
      "total_incidents:[  1.   2.   3.   4.   5.   6.   7.   8.   9.  10.  11.  12.  13.  14.\n",
      "  15.  16.  17.  18.  19.  20.  21.  22.  23.  24.  25.  26.  27.  28.\n",
      "  29.  30.  31.  32.  33.  34.  35.  36.  37.  38.  39.  40.  41.  42.\n",
      "  43.  44.  45.  46.  47.  48.  49.  50.  51.  52.  53.  54.  55.  56.\n",
      "  57.  58.  59.  60.  61.  62.  63.  64.  66.  67.  68.  69.  71.  74.\n",
      "  75.  76.  77.  78.  79.  80.  81.  82.  83.  84.  85.  86.  87.  88.\n",
      "  90.  91.  93.  95.  97.  98. 101. 102. 103. 104. 107. 108. 114. 118.\n",
      " 124. 126. 127. 128. 130. 132. 135. 141. 142. 147. 153. 160. 169. 170.\n",
      " 180. 181. 188.], total num:115\n"
     ]
    }
   ],
   "source": [
    "print_features(demographics)"
   ]
  },
  {
   "cell_type": "code",
   "execution_count": null,
   "id": "28ef3250",
   "metadata": {
    "pycharm": {
     "name": "#%%\n"
    }
   },
   "outputs": [],
   "source": []
  }
 ],
 "metadata": {
  "kernelspec": {
   "display_name": "Python 3 (ipykernel)",
   "language": "python",
   "name": "python3"
  },
  "language_info": {
   "codemirror_mode": {
    "name": "ipython",
    "version": 3
   },
   "file_extension": ".py",
   "mimetype": "text/x-python",
   "name": "python",
   "nbconvert_exporter": "python",
   "pygments_lexer": "ipython3",
   "version": "3.9.0"
  }
 },
 "nbformat": 4,
 "nbformat_minor": 5
}